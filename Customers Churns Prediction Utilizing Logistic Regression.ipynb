{
 "cells": [
  {
   "cell_type": "markdown",
   "id": "bcebc850",
   "metadata": {},
   "source": [
    "### Application of Logistic Regression as a predictive model "
   ]
  },
  {
   "cell_type": "markdown",
   "id": "0b313727",
   "metadata": {},
   "source": [
    "#### Logistic Regression without hyperparameters tuning"
   ]
  },
  {
   "cell_type": "code",
   "execution_count": 1,
   "id": "9569bfff",
   "metadata": {},
   "outputs": [
    {
     "name": "stdout",
     "output_type": "stream",
     "text": [
      "Accuracy: 0.8147622427253371\n",
      "Classification Report:\n",
      "              precision    recall  f1-score   support\n",
      "\n",
      "           0       0.85      0.91      0.88      1036\n",
      "           1       0.68      0.56      0.61       373\n",
      "\n",
      "    accuracy                           0.81      1409\n",
      "   macro avg       0.77      0.73      0.75      1409\n",
      "weighted avg       0.81      0.81      0.81      1409\n",
      "\n"
     ]
    }
   ],
   "source": [
    "import pandas as pd\n",
    "from sklearn.model_selection import train_test_split\n",
    "from sklearn.preprocessing import LabelEncoder, StandardScaler\n",
    "from sklearn.linear_model import LogisticRegression\n",
    "from sklearn.metrics import accuracy_score, classification_report\n",
    "\n",
    "# Data Preprocessing\n",
    "data = pd.read_csv('Customer_Churn.csv')\n",
    "\n",
    "# Handling missing values\n",
    "data.fillna(0, inplace=True)\n",
    "\n",
    "# Convert categorical variables into numerical representations\n",
    "label_encoders = {}\n",
    "for column in data.columns:\n",
    "    if data[column].dtype == 'object':\n",
    "        label_encoders[column] = LabelEncoder()\n",
    "        data[column] = label_encoders[column].fit_transform(data[column])\n",
    "\n",
    "# Feature Engineering\n",
    "X_numerical = data[['MonthlyCharges', 'TotalCharges']] # Concatenate numerical features (MonthlyCharges and TotalCharges) with existing features\n",
    "X_categorical = data.drop(['Churn', 'MonthlyCharges', 'TotalCharges'], axis=1)\n",
    "X = pd.concat([X_categorical, X_numerical], axis=1)\n",
    "\n",
    "# Split the Data\n",
    "y = data['Churn']\n",
    "X_train, X_test, y_train, y_test = train_test_split(X, y, test_size=0.2, random_state=42)\n",
    "\n",
    "# Model Selection and Training\n",
    "scaler = StandardScaler()\n",
    "X_train_scaled = scaler.fit_transform(X_train)\n",
    "X_test_scaled = scaler.transform(X_test)\n",
    "\n",
    "model = LogisticRegression(random_state=42)\n",
    "model.fit(X_train_scaled, y_train)\n",
    "\n",
    "# Model Evaluation\n",
    "y_pred = model.predict(X_test_scaled)\n",
    "accuracy = accuracy_score(y_test, y_pred)\n",
    "print(\"Accuracy:\", accuracy)\n",
    "print(\"Classification Report:\")\n",
    "print(classification_report(y_test, y_pred))"
   ]
  },
  {
   "cell_type": "markdown",
   "id": "aa350f3e",
   "metadata": {},
   "source": [
    "#### Logistic Regression with hyperparameters tuning"
   ]
  },
  {
   "cell_type": "code",
   "execution_count": 2,
   "id": "30ad8f77",
   "metadata": {},
   "outputs": [
    {
     "name": "stdout",
     "output_type": "stream",
     "text": [
      "Best Hyperparameters: {'C': 1, 'penalty': 'l2', 'solver': 'saga'}\n",
      "Accuracy: 0.8147622427253371\n",
      "Classification Report:\n",
      "              precision    recall  f1-score   support\n",
      "\n",
      "           0       0.85      0.91      0.88      1036\n",
      "           1       0.68      0.56      0.61       373\n",
      "\n",
      "    accuracy                           0.81      1409\n",
      "   macro avg       0.77      0.73      0.75      1409\n",
      "weighted avg       0.81      0.81      0.81      1409\n",
      "\n"
     ]
    }
   ],
   "source": [
    "import pandas as pd\n",
    "from sklearn.model_selection import train_test_split, GridSearchCV\n",
    "from sklearn.preprocessing import LabelEncoder, StandardScaler\n",
    "from sklearn.linear_model import LogisticRegression\n",
    "from sklearn.metrics import accuracy_score, classification_report\n",
    "\n",
    "# Data Preprocessing\n",
    "data = pd.read_csv('Customer_Churn.csv')\n",
    "\n",
    "# Handling missing values\n",
    "data.fillna(0, inplace=True)\n",
    "\n",
    "# Convert categorical variables into numerical representations\n",
    "label_encoders = {}\n",
    "for column in data.columns:\n",
    "    if data[column].dtype == 'object':\n",
    "        label_encoders[column] = LabelEncoder()\n",
    "        data[column] = label_encoders[column].fit_transform(data[column])\n",
    "\n",
    "# Feature Engineering\n",
    "# Concatenate numerical features (MonthlyCharges and TotalCharges) with existing features\n",
    "X_numerical = data[['MonthlyCharges', 'TotalCharges']]\n",
    "X_categorical = data.drop(['Churn', 'MonthlyCharges', 'TotalCharges'], axis=1)\n",
    "X = pd.concat([X_categorical, X_numerical], axis=1)\n",
    "\n",
    "# Split the Data\n",
    "y = data['Churn']\n",
    "X_train, X_test, y_train, y_test = train_test_split(X, y, test_size=0.2, random_state=42)\n",
    "\n",
    "# Model Selection and Hyperparameter Tuning\n",
    "param_grid = {\n",
    "    'C': [0.001, 0.01, 0.1, 1, 10, 100],\n",
    "    'penalty': ['l1', 'l2'],\n",
    "    'solver': ['liblinear', 'saga']\n",
    "}\n",
    "\n",
    "scaler = StandardScaler()\n",
    "X_train_scaled = scaler.fit_transform(X_train)\n",
    "X_test_scaled = scaler.transform(X_test)\n",
    "\n",
    "logistic_regression = LogisticRegression(random_state=42)\n",
    "grid_search = GridSearchCV(estimator=logistic_regression, param_grid=param_grid, cv=5, scoring='accuracy')\n",
    "grid_search.fit(X_train_scaled, y_train)\n",
    "\n",
    "# Best hyperparameters\n",
    "best_params = grid_search.best_params_\n",
    "print(\"Best Hyperparameters:\", best_params)\n",
    "\n",
    "# Model Evaluation with Best Hyperparameters\n",
    "best_logistic_regression = grid_search.best_estimator_\n",
    "y_pred = best_logistic_regression.predict(X_test_scaled)\n",
    "accuracy = accuracy_score(y_test, y_pred)\n",
    "print(\"Accuracy:\", accuracy)\n",
    "print(\"Classification Report:\")\n",
    "print(classification_report(y_test, y_pred))"
   ]
  },
  {
   "cell_type": "code",
   "execution_count": null,
   "id": "81f45db5",
   "metadata": {},
   "outputs": [],
   "source": []
  }
 ],
 "metadata": {
  "kernelspec": {
   "display_name": "Python 3 (ipykernel)",
   "language": "python",
   "name": "python3"
  },
  "language_info": {
   "codemirror_mode": {
    "name": "ipython",
    "version": 3
   },
   "file_extension": ".py",
   "mimetype": "text/x-python",
   "name": "python",
   "nbconvert_exporter": "python",
   "pygments_lexer": "ipython3",
   "version": "3.11.5"
  }
 },
 "nbformat": 4,
 "nbformat_minor": 5
}
