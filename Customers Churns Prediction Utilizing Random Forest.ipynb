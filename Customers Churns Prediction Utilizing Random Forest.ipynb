{
 "cells": [
  {
   "cell_type": "markdown",
   "id": "256e8920",
   "metadata": {},
   "source": [
    "### Application of Random Forest as a predictive model "
   ]
  },
  {
   "cell_type": "markdown",
   "id": "9f830095",
   "metadata": {},
   "source": [
    "#### Random Forest without hyperparameters tuning"
   ]
  },
  {
   "cell_type": "code",
   "execution_count": 1,
   "id": "81efad2d",
   "metadata": {},
   "outputs": [
    {
     "name": "stdout",
     "output_type": "stream",
     "text": [
      "Accuracy: 0.7970191625266146\n",
      "Classification Report:\n",
      "              precision    recall  f1-score   support\n",
      "\n",
      "           0       0.83      0.91      0.87      1036\n",
      "           1       0.66      0.48      0.56       373\n",
      "\n",
      "    accuracy                           0.80      1409\n",
      "   macro avg       0.74      0.70      0.71      1409\n",
      "weighted avg       0.78      0.80      0.79      1409\n",
      "\n"
     ]
    }
   ],
   "source": [
    "import pandas as pd\n",
    "from sklearn.model_selection import train_test_split\n",
    "from sklearn.preprocessing import LabelEncoder\n",
    "from sklearn.ensemble import RandomForestClassifier\n",
    "from sklearn.metrics import accuracy_score, classification_report\n",
    "\n",
    "# Data Preprocessing\n",
    "data = pd.read_csv('Customer_Churn.csv')\n",
    "\n",
    "# Handling missing values\n",
    "data.fillna(0, inplace=True)\n",
    "\n",
    "# Convert categorical variables into numerical representations\n",
    "label_encoders = {}\n",
    "for column in data.columns:\n",
    "    if data[column].dtype == 'object':\n",
    "        label_encoders[column] = LabelEncoder()\n",
    "        data[column] = label_encoders[column].fit_transform(data[column])\n",
    "\n",
    "# Feature Engineering\n",
    "X_numerical = data[['MonthlyCharges', 'TotalCharges']] # Concatenate numerical features (MonthlyCharges and TotalCharges) with existing features\n",
    "X_categorical = data.drop(['Churn', 'MonthlyCharges', 'TotalCharges'], axis=1)\n",
    "X = pd.concat([X_categorical, X_numerical], axis=1)\n",
    "\n",
    "# Split the Data\n",
    "y = data['Churn']\n",
    "X_train, X_test, y_train, y_test = train_test_split(X, y, test_size=0.2, random_state=42)\n",
    "\n",
    "# Model Selection and Training\n",
    "model = RandomForestClassifier(n_estimators=100, random_state=42)\n",
    "model.fit(X_train, y_train)\n",
    "\n",
    "# Model Evaluation\n",
    "y_pred = model.predict(X_test)\n",
    "accuracy = accuracy_score(y_test, y_pred)\n",
    "print(\"Accuracy:\", accuracy)\n",
    "print(\"Classification Report:\")\n",
    "print(classification_report(y_test, y_pred))"
   ]
  },
  {
   "cell_type": "markdown",
   "id": "8b742207",
   "metadata": {},
   "source": [
    "#### Random Forest with hyperparameters tuning"
   ]
  },
  {
   "cell_type": "code",
   "execution_count": 2,
   "id": "13c7e71a",
   "metadata": {},
   "outputs": [
    {
     "name": "stdout",
     "output_type": "stream",
     "text": [
      "Best Hyperparameters: {'max_depth': 10, 'min_samples_split': 10, 'n_estimators': 150}\n",
      "Accuracy: 0.8119233498935415\n",
      "Classification Report:\n",
      "              precision    recall  f1-score   support\n",
      "\n",
      "           0       0.84      0.92      0.88      1036\n",
      "           1       0.69      0.52      0.59       373\n",
      "\n",
      "    accuracy                           0.81      1409\n",
      "   macro avg       0.77      0.72      0.74      1409\n",
      "weighted avg       0.80      0.81      0.80      1409\n",
      "\n"
     ]
    }
   ],
   "source": [
    "import pandas as pd\n",
    "from sklearn.model_selection import train_test_split, GridSearchCV\n",
    "from sklearn.preprocessing import LabelEncoder\n",
    "from sklearn.ensemble import RandomForestClassifier\n",
    "from sklearn.metrics import accuracy_score, classification_report\n",
    "\n",
    "# Step 1: Data Preprocessing\n",
    "data = pd.read_csv('Customer_Churn.csv')\n",
    "\n",
    "# Handling missing values\n",
    "data.fillna(0, inplace=True)\n",
    "\n",
    "# Convert categorical variables into numerical representations\n",
    "label_encoders = {}\n",
    "for column in data.columns:\n",
    "    if data[column].dtype == 'object':\n",
    "        label_encoders[column] = LabelEncoder()\n",
    "        data[column] = label_encoders[column].fit_transform(data[column])\n",
    "\n",
    "# Step 2: Feature Engineering\n",
    "# Concatenate numerical features (MonthlyCharges and TotalCharges) with existing features\n",
    "X_numerical = data[['MonthlyCharges', 'TotalCharges']]\n",
    "X_categorical = data.drop(['Churn', 'MonthlyCharges', 'TotalCharges'], axis=1)\n",
    "X = pd.concat([X_categorical, X_numerical], axis=1)\n",
    "\n",
    "# Step 3: Split the Data\n",
    "y = data['Churn']\n",
    "X_train, X_test, y_train, y_test = train_test_split(X, y, test_size=0.2, random_state=42)\n",
    "\n",
    "# Step 4: Model Selection and Hyperparameter Tuning\n",
    "param_grid = {\n",
    "    'n_estimators': [50, 100, 150],\n",
    "    'max_depth': [None, 10, 20],\n",
    "    'min_samples_split': [2, 5, 10]\n",
    "}\n",
    "\n",
    "rf = RandomForestClassifier(random_state=42)\n",
    "grid_search = GridSearchCV(estimator=rf, param_grid=param_grid, cv=5, scoring='accuracy')\n",
    "grid_search.fit(X_train, y_train)\n",
    "\n",
    "# Best hyperparameters\n",
    "best_params = grid_search.best_params_\n",
    "print(\"Best Hyperparameters:\", best_params)\n",
    "\n",
    "# Step 5: Model Evaluation with Best Hyperparameters\n",
    "best_rf = grid_search.best_estimator_\n",
    "y_pred = best_rf.predict(X_test)\n",
    "accuracy = accuracy_score(y_test, y_pred)\n",
    "print(\"Accuracy:\", accuracy)\n",
    "print(\"Classification Report:\")\n",
    "print(classification_report(y_test, y_pred))"
   ]
  }
 ],
 "metadata": {
  "kernelspec": {
   "display_name": "Python 3 (ipykernel)",
   "language": "python",
   "name": "python3"
  },
  "language_info": {
   "codemirror_mode": {
    "name": "ipython",
    "version": 3
   },
   "file_extension": ".py",
   "mimetype": "text/x-python",
   "name": "python",
   "nbconvert_exporter": "python",
   "pygments_lexer": "ipython3",
   "version": "3.11.5"
  }
 },
 "nbformat": 4,
 "nbformat_minor": 5
}
